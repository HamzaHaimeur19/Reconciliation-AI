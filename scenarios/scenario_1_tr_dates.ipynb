import pandas as pd
from sklearn.model_selection import train_test_split
from sklearn.ensemble import RandomForestClassifier
from sklearn.metrics import classification_report

# Load the entire contents of the files
df_a = pd.read_csv("../files/fake_transactions_acquirer_date_decale.csv")
df_m = pd.read_csv("../files/fake_transactions_merchant.csv")

#check the files
print(df_a.info())
print(df_m.info())

# Keep only the 'Transaction_Date' column
df_tda = df_a[['Transaction_Date']]
df_tdm = df_m[['Transaction_Date']]

#check the 2 columns
print(df_tda.info())
print(df_tdm.info())

# Convert 'Transaction_Date' column to datetime objects with a specific format
df_tda['Transaction_Date'] = pd.to_datetime(df_tda['Transaction_Date'], format='%Y%m%d%H:%M:%S', errors="coerce").dt.strftime('%Y%m%d%H:%M:%S')
df_tdm['Transaction_Date'] = pd.to_datetime(df_tdm['Transaction_Date'], format='%Y%m%d%H:%M:%S', errors="coerce").dt.strftime('%Y%m%d%H:%M:%S')

# Calculate the difference between the dates in each row
df_tda["diff"] = (pd.to_datetime(df_tda["Transaction_Date"], format="%Y%m%d%H:%M:%S") - pd.to_datetime(df_m["Transaction_Date"], format="%Y%m%d%H:%M:%S")).dt.total_seconds() / 60
print(df_tda['diff'])

# Calculate the mean of the 'diff' column
mean_diff = df_tda['diff'].mean()

# Replace NaN values in the 'diff' column with the mean
df_tda['diff'].fillna(mean_diff, inplace=True)

# Add labels based on your condition
df_tda.loc[df_tda['diff'] == 0, 'label'] = 'ok'
df_tda.loc[df_tda['diff'] > 60, 'label'] = 'not ok'
df_tda.loc[(df_tda['diff'] > 0) & (df_tda['diff'] <= 60), 'label'] = 'possible'

# Use a model
# Initialize a Random Forest Classifier
clf = RandomForestClassifier()

# Assuming 'diff' is a list of feature columns and 'label' is the target column
# allocate 80% of your data to the test set and 20% to the training set
X_train, X_test, y_train, y_test = train_test_split(df_tda[['diff']], df_tda['label'], test_size=0.2)
clf.fit(X_train, y_train)

# Evaluation
y_pred = clf.predict(X_test)
print(classification_report(y_test, y_pred))


# Drop date transaction column
df_tda.drop(columns=['Transaction_Date'], inplace=True)

# Save the df_add dataframe with predictions to a new Excel file
df_tda.to_csv("../files/resultat_matching_fields.csv", index=False)
